{
 "cells": [
  {
   "cell_type": "markdown",
   "id": "9eded9ab",
   "metadata": {},
   "source": [
    "## Assignment 1"
   ]
  },
  {
   "cell_type": "markdown",
   "id": "8467b78d",
   "metadata": {},
   "source": [
    "- 1. What does one mean by the term \"machine learning\"?"
   ]
  },
  {
   "cell_type": "markdown",
   "id": "ce5132c2",
   "metadata": {},
   "source": [
    "Machine Learning is a set of algorithms that have the capability to learn to perform tasks such as prediction and classification effectively using data."
   ]
  },
  {
   "cell_type": "markdown",
   "id": "94c47555",
   "metadata": {},
   "source": [
    "- 2.Can you think of 4 distinct types of issues where it shines?"
   ]
  },
  {
   "cell_type": "markdown",
   "id": "be0de529",
   "metadata": {},
   "source": [
    "1. Email Spam detection\n",
    "2. Voice Recognition\n",
    "3. Image Recogntion\n",
    "4. Product Recomendation System"
   ]
  },
  {
   "cell_type": "markdown",
   "id": "0f26750b",
   "metadata": {},
   "source": [
    "- 3.What is a labeled training set, and how does it work?\n"
   ]
  },
  {
   "cell_type": "markdown",
   "id": "57dc47bc",
   "metadata": {},
   "source": [
    "When dataset contain features with well lable dataframe it is ment to identifying certain properties or characteristics, or classifications or contained objects. It help in Trainning Data using Supervised Method like, Regression and Classification"
   ]
  },
  {
   "cell_type": "markdown",
   "id": "707f7d7e",
   "metadata": {},
   "source": [
    "- 4.What are the two most important tasks that are supervised?"
   ]
  },
  {
   "cell_type": "markdown",
   "id": "ff5ffc95",
   "metadata": {},
   "source": [
    "Regression and Classification are two most important task that are supervised."
   ]
  },
  {
   "cell_type": "markdown",
   "id": "c39f1638",
   "metadata": {},
   "source": [
    "- 5.Can you think of four examples of unsupervised tasks?"
   ]
  },
  {
   "cell_type": "markdown",
   "id": "314a6f08",
   "metadata": {},
   "source": [
    "Clustring, Dimension Reduction, Visulisation and association rule learning."
   ]
  },
  {
   "cell_type": "markdown",
   "id": "05890c4a",
   "metadata": {},
   "source": [
    "- 6.State the machine learning model that would be best to make a robot walk through various unfamiliar terrains?"
   ]
  },
  {
   "cell_type": "markdown",
   "id": "164b3187",
   "metadata": {},
   "source": [
    "Reinforcement Learning is best for Robet Walking because it is besed on reward and Penelty system. If System perform good work we will reward it with positive point and if it fail we will implement with harsh penelty."
   ]
  },
  {
   "cell_type": "markdown",
   "id": "be4124c7",
   "metadata": {},
   "source": [
    "- 7.Which algorithm will you use to divide your customers into different groups?"
   ]
  },
  {
   "cell_type": "markdown",
   "id": "b10e0199",
   "metadata": {},
   "source": [
    "If I know Category of My Customer then use Supervised Learning Model else Clustring will solve the problem"
   ]
  },
  {
   "cell_type": "markdown",
   "id": "2ea7fad9",
   "metadata": {},
   "source": [
    "- 8.Will you consider the problem of spam detection to be a supervised or unsupervised learning problem?"
   ]
  },
  {
   "cell_type": "markdown",
   "id": "2433e337",
   "metadata": {},
   "source": [
    "It is Supervised Learning Problem."
   ]
  },
  {
   "cell_type": "markdown",
   "id": "7dc130be",
   "metadata": {},
   "source": [
    "- 9.What is the concept of an online learning system?"
   ]
  },
  {
   "cell_type": "markdown",
   "id": "d0a3ef92",
   "metadata": {},
   "source": [
    "An online learning system learns from new data on-the-fly. As a result, the system is trained incrementally either by using one example at a time or using a mini-batch approach. This keeps each learning step cheap and memory efficient"
   ]
  },
  {
   "cell_type": "markdown",
   "id": "3d3a4b56",
   "metadata": {},
   "source": [
    "- 10.What is out-of-core learning, and how does it differ from core learning?"
   ]
  },
  {
   "cell_type": "markdown",
   "id": "b6f1e5dc",
   "metadata": {},
   "source": [
    "Out-of-core learning is used when a dataset is too large to fit into a computer's memory. The algorithm loads part of the data, runs a training step, then repeats the process until it has run on all the data."
   ]
  },
  {
   "cell_type": "markdown",
   "id": "23340b46",
   "metadata": {},
   "source": [
    "- 11.What kind of learning algorithm makes predictions using a similarity measure?"
   ]
  },
  {
   "cell_type": "markdown",
   "id": "ff8b4329",
   "metadata": {},
   "source": [
    "Instance-based learning system, the algorithm learns the examples by heart, then uses the similarity measure to generalize."
   ]
  },
  {
   "cell_type": "markdown",
   "id": "cda92b0e",
   "metadata": {},
   "source": [
    "- 12.What's the difference between a model parameter and a hyperparameter in a learning algorithm?"
   ]
  },
  {
   "cell_type": "markdown",
   "id": "92ee9269",
   "metadata": {},
   "source": [
    "1. Model Parameter -> Paremeter inside the model ex: Theta in Linera Regressor and min no. of Leaf in Decision Tree\n",
    "2. Hyperparameter ->  A parameter whose value is used to control the learning process. eg: Learning rate in Grediant decent"
   ]
  },
  {
   "cell_type": "markdown",
   "id": "e9b3b0d0",
   "metadata": {},
   "source": [
    "- 13.What are the criteria that model-based learning algorithms look for? What is the most popular method they use to achieve success? What method do they use to make predictions?"
   ]
  },
  {
   "cell_type": "markdown",
   "id": "e765039b",
   "metadata": {},
   "source": [
    "Model based learning algorithm search for the optimal value of parameters in a model that will give the best results for the new instances.\n",
    "Reducing the Cost Function value by repeted calibration we found optimal parameters for best model selection."
   ]
  },
  {
   "cell_type": "markdown",
   "id": "eca91441",
   "metadata": {},
   "source": [
    "- 14.Can you name four of the most important Machine Learning challenges?"
   ]
  },
  {
   "cell_type": "markdown",
   "id": "7315e704",
   "metadata": {},
   "source": [
    "1. Data collection (without crupt or NaN data)\n",
    "2. Feature Selection and Feature Extraction (garbage values will form garbage model)\n",
    "3. Highly Biased Model(Performing best for Train data but less in Test data)\n",
    "4. Your dataset is full of missing values, outliers, and noise (poor measurments)."
   ]
  },
  {
   "cell_type": "markdown",
   "id": "51833179",
   "metadata": {},
   "source": [
    "- 15.What happens if the model performs well on the training data but fails to generalize the results to new situations? Can you think of three different options?"
   ]
  },
  {
   "cell_type": "markdown",
   "id": "3448dba0",
   "metadata": {},
   "source": [
    "Due To OverFitting of Model we Get This Sitution.\n",
    "Way to overcome:\n",
    " 1. Use Randomize data.\n",
    " 2. Use Method like Bagging and Bosting to reduce Overfitting\n",
    " 3. Get More Random data and try Feature Selection for various outcome"
   ]
  },
  {
   "cell_type": "markdown",
   "id": "a937b4aa",
   "metadata": {},
   "source": [
    "- 16.What exactly is a test set, and why would you need one?"
   ]
  },
  {
   "cell_type": "markdown",
   "id": "d47b33ba",
   "metadata": {},
   "source": [
    "Before Fitting data we split our model into Test and Train Set.\n",
    "Trainning Data use for model Trainning, where as Test set is for Testing generated model to get an idea how well our model can Predict for unknown values."
   ]
  },
  {
   "cell_type": "markdown",
   "id": "d648dd62",
   "metadata": {},
   "source": [
    "- 17.What is a validation set's purpose?"
   ]
  },
  {
   "cell_type": "markdown",
   "id": "faee9b56",
   "metadata": {},
   "source": [
    "Validation set is used for determining the parameters of the model, and test set is used for evaluate the performance of the model in an unseen (real world) dataset .Validation set is optional, and it is aimed to avoid over-fitting problem"
   ]
  },
  {
   "cell_type": "markdown",
   "id": "060ca86f",
   "metadata": {},
   "source": [
    "- 18.What could go wrong if you use the test set to tune hyperparameters?"
   ]
  },
  {
   "cell_type": "markdown",
   "id": "4c3fa27b",
   "metadata": {},
   "source": [
    "Model will not be generalizable to new examples."
   ]
  }
 ],
 "metadata": {
  "kernelspec": {
   "display_name": "Python 3 (ipykernel)",
   "language": "python",
   "name": "python3"
  },
  "language_info": {
   "codemirror_mode": {
    "name": "ipython",
    "version": 3
   },
   "file_extension": ".py",
   "mimetype": "text/x-python",
   "name": "python",
   "nbconvert_exporter": "python",
   "pygments_lexer": "ipython3",
   "version": "3.9.7"
  }
 },
 "nbformat": 4,
 "nbformat_minor": 5
}
