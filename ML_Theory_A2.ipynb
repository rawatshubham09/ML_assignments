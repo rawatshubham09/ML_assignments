{
 "cells": [
  {
   "cell_type": "markdown",
   "id": "14f2e00e",
   "metadata": {},
   "source": [
    "## Assignment 2"
   ]
  },
  {
   "cell_type": "markdown",
   "id": "8fdb70d4",
   "metadata": {},
   "source": [
    "- 1. What is the concept of human learning? Please give two examples.\n"
   ]
  },
  {
   "cell_type": "markdown",
   "id": "544e4bc9",
   "metadata": {},
   "source": [
    "Human Recive Input using Ear,Eye,Nose,Touch etc by Uding these data and continues feedback system we start analysing how to use this information upto best use.\n",
    " 1. Visual input of Trafic boards implement set of rules to follow.\n",
    " 2. Emergency Siren sound for Warrning"
   ]
  },
  {
   "cell_type": "markdown",
   "id": "0141a558",
   "metadata": {},
   "source": [
    "- 2. What different forms of human learning are there? Are there any machine learning equivalents?\n"
   ]
  },
  {
   "cell_type": "markdown",
   "id": "7fc41cb6",
   "metadata": {},
   "source": [
    "1. In world of Cumpter Automation Human Learning is a way in which Machine is teach how to learn like human using small small node none as Nural node.\n",
    "2. eg:- Artificial Neural Network, RNN, CNN etc.\n",
    "3. It is Advance form of ML."
   ]
  },
  {
   "cell_type": "markdown",
   "id": "38e4dce6",
   "metadata": {},
   "source": [
    "-3. What is machine learning, and how does it work? What are the key responsibilities of machine learning?\n"
   ]
  },
  {
   "cell_type": "markdown",
   "id": "e7447931",
   "metadata": {},
   "source": [
    "Machine Learning is a set of algorithms that have the capability to learn to perform tasks such as prediction and classification effectively using data. Some Key Responsibility of Machine Learning Engineer is\n",
    "1. Study and transform data science prototypes.\n",
    "2. Design machine learning systems.\n",
    "3. Research and implement appropriate ML algorithms and tools.\n",
    "4. Develop machine learning applications according to requirements.\n",
    "5. Select appropriate datasets and data representation methods.\n",
    "6. Run machine learning tests and experiments"
   ]
  },
  {
   "cell_type": "markdown",
   "id": "697052b8",
   "metadata": {},
   "source": [
    "- 4. Define the terms \"penalty\" and \"reward\" in the context of reinforcement learning.\n"
   ]
  },
  {
   "cell_type": "markdown",
   "id": "52a43996",
   "metadata": {},
   "source": [
    "In Reinforcement Learning we use Reward and Penalty system to Train our AI model.\n",
    "Penalty - When modle has Perform some mistake or error we reduce some point or award points in negative values.\n",
    "Rewards - Its Given to Model when it perform according to our need or according to our requirements."
   ]
  },
  {
   "cell_type": "markdown",
   "id": "06244183",
   "metadata": {},
   "source": [
    "- 5. Explain the term \"learning as a search\"?\n"
   ]
  },
  {
   "cell_type": "markdown",
   "id": "9bc29ab4",
   "metadata": {},
   "source": [
    "1. Concept learning can be viewed as the task of searching through a large space of hypotheses implicitly defined by the hypothesis representation.\n",
    "2. The goal of this search is to find the hypothesis that best fits the training examples.\n",
    "3. By selecting a hypothesis representation, the designer of the learning algorithm implicitly defines the space of all hypotheses that the program can ever represent and therefore can ever learn."
   ]
  },
  {
   "cell_type": "markdown",
   "id": "d4a684de",
   "metadata": {},
   "source": [
    "- 6. What are the various goals of machine learning? What is the relationship between these and human learning?\n"
   ]
  },
  {
   "cell_type": "markdown",
   "id": "e80320c4",
   "metadata": {},
   "source": [
    "Goal of Machine Learning is : \n",
    "1. To make the computers smarter, more intelligent. The more direct objective in this aspect is to develop systems (programs) for specific practical learning tasks in application domains.\n",
    "2. To develop computational models of human learning process and perform computer simulations. The study in this aspect is also called cognitive modeling.\n",
    "3. To explore new learning methods and develop general learning algorithms independent of applications\n",
    "\n",
    "Both Human And Machine Learn using Information which we feed and understand by continues Learning and imporving"
   ]
  },
  {
   "cell_type": "markdown",
   "id": "d650f203",
   "metadata": {},
   "source": [
    "- 7. Illustrate the various elements of machine learning using a real-life illustration.\n"
   ]
  },
  {
   "cell_type": "markdown",
   "id": "4072bd71",
   "metadata": {},
   "source": [
    "Some Real Life Machine Learning Problems are:\n",
    "1. Web search: ranking page based on what you are most likely to click on.\n",
    "2. Computational biology: rational design drugs in the computer based on past experiments.\n",
    "3. Finance: decide who to send what credit card offers to. Evaluation of risk on credit offers. How to decide where to invest money.\n",
    "4. E-commerce:  Predicting customer churn. Whether or not a transaction is fraudulent.\n",
    "5. Space exploration: space probes and radio astronomy."
   ]
  },
  {
   "cell_type": "markdown",
   "id": "f878fba4",
   "metadata": {},
   "source": [
    "- 8. Provide an example of the abstraction method.\n"
   ]
  },
  {
   "cell_type": "markdown",
   "id": "266b9a65",
   "metadata": {},
   "source": [
    "Abstraction is defined as dealing with ideas instead of events. In the context of AI, that means worrying more about what the right algorithm is and less about how to implement it"
   ]
  },
  {
   "cell_type": "markdown",
   "id": "7a31518e",
   "metadata": {},
   "source": [
    "- 9. What is the concept of generalization? What function does it play in the machine learning process?\n"
   ]
  },
  {
   "cell_type": "markdown",
   "id": "de77bd90",
   "metadata": {},
   "source": [
    "Machine Learning is tested by providing new or unseen data from some sample/distribution. therefore, the ability of a model to adapt to the unknown data/scenarios is called generalization. It reduce the probability of Overfitting of Modle"
   ]
  },
  {
   "cell_type": "markdown",
   "id": "d576be2c",
   "metadata": {},
   "source": [
    "- 10. What is classification, exactly? What are the main distinctions between classification and regression?\n"
   ]
  },
  {
   "cell_type": "markdown",
   "id": "0b8dc44f",
   "metadata": {},
   "source": [
    "1. Classification is the process of discovering or identifying a design or role, which helps to separate them into several categorical classes, i.e. discrete values. In classification, data is labelled under different labels according to certain parameters given in input, and then the labels are projected for the data.\n",
    "2. Regression algorithms are used to determine continuous values such as price, income, age, etc. and Classification algorithms are used to forecast or classify the distinct values such as Real or False, Male or Female, Spam or Not Spam, etc."
   ]
  },
  {
   "cell_type": "markdown",
   "id": "bf4f4d0c",
   "metadata": {},
   "source": [
    "- 11. What is regression, and how does it work? Give an example of a real-world problem that was solved using regression.\n"
   ]
  },
  {
   "cell_type": "markdown",
   "id": "b408118c",
   "metadata": {},
   "source": [
    "1. Regression analysis is a machine learning algorithm that can be used to measure how closely related independent variable(s) relate with a dependent variable.\n",
    "2. Examples are:\n",
    "    - Medical Officer use Linear Regressor to determine relation between Drug and BP\n",
    "    - Relation Between Furtilizer and Productivity\n"
   ]
  },
  {
   "cell_type": "markdown",
   "id": "1ab743a9",
   "metadata": {},
   "source": [
    "- 12. Describe the clustering mechanism in detail.\n"
   ]
  },
  {
   "cell_type": "markdown",
   "id": "aa4ff06c",
   "metadata": {},
   "source": [
    "Clustring  is the task of dividing the population or data points into a number of groups such that data points in the same groups are more similar to other data points in the same group and dissimilar to the data points in other groups. It is basically a collection of objects on the basis of similarity and dissimilarity between them. "
   ]
  }
 ],
 "metadata": {
  "kernelspec": {
   "display_name": "Python 3 (ipykernel)",
   "language": "python",
   "name": "python3"
  },
  "language_info": {
   "codemirror_mode": {
    "name": "ipython",
    "version": 3
   },
   "file_extension": ".py",
   "mimetype": "text/x-python",
   "name": "python",
   "nbconvert_exporter": "python",
   "pygments_lexer": "ipython3",
   "version": "3.9.7"
  }
 },
 "nbformat": 4,
 "nbformat_minor": 5
}
